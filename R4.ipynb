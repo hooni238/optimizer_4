{
 "cells": [
  {
   "cell_type": "code",
   "execution_count": 1,
   "metadata": {},
   "outputs": [],
   "source": [
    "import numpy as np\n",
    "import random"
   ]
  },
  {
   "cell_type": "code",
   "execution_count": 2,
   "metadata": {},
   "outputs": [],
   "source": [
    "file_name = 'R44.txt'"
   ]
  },
  {
   "cell_type": "code",
   "execution_count": 3,
   "metadata": {},
   "outputs": [],
   "source": [
    "dataset = []\n",
    "with open(file_name) as f:\n",
    "    q = f.readline()\n",
    "    qq = q.split()\n",
    "    for i in range(len(qq)):\n",
    "        if qq[i] == '_':\n",
    "            qq[i] = 0\n",
    "            \n",
    "    [di, n_d, m, k, out] = [int(i) for i in qq]\n",
    "    D = np.zeros((n_d,di))\n",
    "    X = [[0.0]*di for i in range(n_d)]\n",
    "    r_point = [0]*di\n",
    "    q = f.readline()\n",
    "    k_c = [int(i) for i in q.split()]\n",
    "    i = 0\n",
    "    for line in f:\n",
    "        r_point = [0]*di\n",
    "        r_point = line.split()\n",
    "        D[i] = [float(rr) for rr in r_point]\n",
    "        X[i] = [float(rr) for rr in r_point]\n",
    "        i += 1"
   ]
  },
  {
   "cell_type": "code",
   "execution_count": 4,
   "metadata": {},
   "outputs": [],
   "source": [
    "outliers = []\n",
    "# it is found by for dade part.cpp\n",
    "with open('OutlierR44.txt') as f:\n",
    "    for line in f:\n",
    "        outliers.append(int(line))"
   ]
  },
  {
   "cell_type": "code",
   "execution_count": 5,
   "metadata": {},
   "outputs": [
    {
     "data": {
      "text/plain": [
       "587"
      ]
     },
     "execution_count": 5,
     "metadata": {},
     "output_type": "execute_result"
    }
   ],
   "source": [
    "len(outliers)"
   ]
  },
  {
   "cell_type": "code",
   "execution_count": 6,
   "metadata": {},
   "outputs": [
    {
     "data": {
      "text/plain": [
       "600"
      ]
     },
     "execution_count": 6,
     "metadata": {},
     "output_type": "execute_result"
    }
   ],
   "source": [
    "for i in range(n_d-13, n_d):\n",
    "    outliers.append(i)\n",
    "len(outliers)"
   ]
  },
  {
   "cell_type": "code",
   "execution_count": 7,
   "metadata": {},
   "outputs": [],
   "source": [
    "d_index = [i for i in range(n_d)]\n",
    "s = set(outliers)\n",
    "temp3 = [x for x in d_index if x not in s]"
   ]
  },
  {
   "cell_type": "code",
   "execution_count": 8,
   "metadata": {},
   "outputs": [],
   "source": [
    "def peda(a,b):\n",
    "    s = 0\n",
    "    for i in range(di):\n",
    "        s += (a[i] - b[i])**2\n",
    "    return(np.sqrt(s))\n",
    "\n",
    "def mandr_finder(A, m1):\n",
    "    mn = A[0]\n",
    "    mm =  peda(mn,m1)\n",
    "    for node in A:\n",
    "        if peda(node,m1) < mm:\n",
    "            mm =  peda(node,m1)\n",
    "            mn = node\n",
    "    m1 = mn\n",
    "\n",
    "    mn = A[0]\n",
    "    mm =  peda(mn,m1)\n",
    "    for node in A:\n",
    "        if peda(node,m1) > mm:\n",
    "            mm =  peda(node,m1)\n",
    "            mn = node\n",
    "    r1 = mm\n",
    "    return(m1, r1)"
   ]
  },
  {
   "cell_type": "code",
   "execution_count": 9,
   "metadata": {},
   "outputs": [],
   "source": [
    "f = open(\"output.txt\",'w')\n",
    "points = []\n",
    "print(n_d, 46, file=f)\n",
    "k = 0\n",
    "cl_num = 0"
   ]
  },
  {
   "cell_type": "code",
   "execution_count": 10,
   "metadata": {},
   "outputs": [],
   "source": [
    "print(di, 1, 'Sphere', file=f)\n",
    "print('', file = f)\n",
    "inn = temp3[:700].copy()\n",
    "s = []\n",
    "for i in inn:\n",
    "    s.append(X[i])\n",
    "s = np.array(s)\n",
    "m1 = np.mean(s, axis=0)\n",
    "m, r = mandr_finder(s, m1)\n",
    "for i in m:\n",
    "    print(i, end = \" \", file = f)\n",
    "print(r, file = f)\n",
    "print(len(inn), end = \" \", file = f)\n",
    "for _ in range(700):\n",
    "    print(temp3[k], end = \" \", file = f)\n",
    "    points.append(temp3[k])\n",
    "    k +=1\n",
    "print('', file = f)"
   ]
  },
  {
   "cell_type": "code",
   "execution_count": 11,
   "metadata": {},
   "outputs": [],
   "source": [
    "for i in range(43):\n",
    "    print(di-19, 1, \"Complex\", file = f)\n",
    "    print(500 , end= \" \", file = f)\n",
    "    for i in range(500):\n",
    "        print(temp3[k], end = \" \", file = f)\n",
    "        points.append(temp3[k])\n",
    "        k +=1\n",
    "    print('', file = f)\n",
    "    cl_num += 1\n"
   ]
  },
  {
   "cell_type": "code",
   "execution_count": 12,
   "metadata": {},
   "outputs": [],
   "source": [
    "print(di, 3, \"Affine\", file=f)\n",
    "print('', file = f)\n",
    "cl = [200, 200, 300]\n",
    "for c in cl:\n",
    "    print(c, end = ' ', file = f)\n",
    "    for _ in range(c):\n",
    "        print(temp3[k], end = \" \", file = f)\n",
    "        points.append(temp3[k])\n",
    "        k += 1\n",
    "    print(\"\", file = f)\n",
    "cl_num += 3"
   ]
  },
  {
   "cell_type": "code",
   "execution_count": 13,
   "metadata": {
    "scrolled": false
   },
   "outputs": [],
   "source": [
    "print(di, 9, \"Complex\", file = f)\n",
    "for i in range(8):\n",
    "    print(100 , end = \" \", file = f)\n",
    "    for _ in range(100):\n",
    "        print(temp3[k], end = \" \", file = f)\n",
    "        points.append(temp3[k])\n",
    "        k += 1\n",
    "    print('', file = f)\n",
    "print(len(temp3) - k, end = \" \", file = f)\n",
    "for _ in range(len(temp3) - k):\n",
    "    print(temp3[k], end = \" \", file = f)\n",
    "    points.append(temp3[k])\n",
    "    k += 1\n",
    "print('', file = f)"
   ]
  },
  {
   "cell_type": "code",
   "execution_count": 14,
   "metadata": {},
   "outputs": [],
   "source": [
    "print(len(outliers), end = \" \", file=f)\n",
    "for ind in outliers:\n",
    "    print(ind, end =\" \", file=f)\n",
    "    points.append(ind)\n",
    "f.close()"
   ]
  },
  {
   "cell_type": "code",
   "execution_count": 15,
   "metadata": {},
   "outputs": [
    {
     "data": {
      "text/plain": [
       "[]"
      ]
     },
     "execution_count": 15,
     "metadata": {},
     "output_type": "execute_result"
    }
   ],
   "source": [
    "d_index = [i for i in range(n_d)]\n",
    "s = set(points)\n",
    "temp4 = [x for x in d_index if x not in s]\n",
    "temp4"
   ]
  },
  {
   "cell_type": "code",
   "execution_count": 16,
   "metadata": {},
   "outputs": [
    {
     "name": "stdout",
     "output_type": "stream",
     "text": [
      "300 2\n",
      "700 700\n",
      "281 2\n",
      "500 500\n",
      "281 2\n",
      "500 500\n",
      "281 2\n",
      "500 500\n",
      "281 2\n",
      "500 500\n",
      "281 2\n",
      "500 500\n",
      "281 2\n",
      "500 500\n",
      "281 2\n",
      "500 500\n",
      "281 2\n",
      "500 500\n",
      "281 2\n",
      "500 500\n",
      "281 2\n",
      "500 500\n",
      "281 2\n",
      "500 500\n",
      "281 2\n",
      "500 500\n",
      "281 2\n",
      "500 500\n",
      "281 2\n",
      "500 500\n",
      "281 2\n",
      "500 500\n",
      "281 2\n",
      "500 500\n",
      "281 2\n",
      "500 500\n",
      "281 2\n",
      "500 500\n",
      "281 2\n",
      "500 500\n",
      "281 2\n",
      "500 500\n",
      "281 2\n",
      "500 500\n",
      "281 2\n",
      "500 500\n",
      "281 2\n",
      "500 500\n",
      "281 2\n",
      "500 500\n",
      "281 2\n",
      "500 500\n",
      "281 2\n",
      "500 500\n",
      "281 2\n",
      "500 500\n",
      "281 2\n",
      "500 500\n",
      "281 2\n",
      "500 500\n",
      "281 2\n",
      "500 500\n",
      "281 2\n",
      "500 500\n",
      "281 2\n",
      "500 500\n",
      "281 2\n",
      "500 500\n",
      "281 2\n",
      "500 500\n",
      "281 2\n",
      "500 500\n",
      "281 2\n",
      "500 500\n",
      "281 2\n",
      "500 500\n",
      "281 2\n",
      "500 500\n",
      "281 2\n",
      "500 500\n",
      "281 2\n",
      "500 500\n",
      "281 2\n",
      "500 500\n",
      "281 2\n",
      "500 500\n",
      "281 2\n",
      "500 500\n",
      "300 2\n",
      "200 200\n",
      "200 200\n",
      "300 300\n",
      "300 2\n",
      "100 100\n",
      "100 100\n",
      "100 100\n",
      "100 100\n",
      "100 100\n",
      "100 100\n",
      "100 100\n",
      "100 100\n",
      "49641 49641\n",
      "600 600\n"
     ]
    }
   ],
   "source": [
    "# validations\n",
    "su = 0\n",
    "ccc = 0\n",
    "m = 0\n",
    "with open('output.txt') as f:\n",
    "    q = f.readline()\n",
    "    for line in f:\n",
    "        a = line.split()\n",
    "        if (len(a)!=0 and a[0].isdigit()):\n",
    "            print(a[0], end = \" \")\n",
    "            print(len(a) -1)\n",
    "            if(int(a[0]) == len(a) -1 ):\n",
    "#                 print(a[0])\n",
    "                su += int(a[0])\n",
    "                ccc += 1\n",
    "            elif(len(a)-1 == 2):\n",
    "                m += 1"
   ]
  }
 ],
 "metadata": {
  "kernelspec": {
   "display_name": "Python 3",
   "language": "python",
   "name": "python3"
  },
  "language_info": {
   "codemirror_mode": {
    "name": "ipython",
    "version": 3
   },
   "file_extension": ".py",
   "mimetype": "text/x-python",
   "name": "python",
   "nbconvert_exporter": "python",
   "pygments_lexer": "ipython3",
   "version": "3.7.6"
  },
  "toc": {
   "base_numbering": 1,
   "nav_menu": {},
   "number_sections": true,
   "sideBar": true,
   "skip_h1_title": false,
   "title_cell": "Table of Contents",
   "title_sidebar": "Contents",
   "toc_cell": false,
   "toc_position": {},
   "toc_section_display": true,
   "toc_window_display": false
  }
 },
 "nbformat": 4,
 "nbformat_minor": 4
}
